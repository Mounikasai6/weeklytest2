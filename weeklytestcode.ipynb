{
 "cells": [
  {
   "cell_type": "code",
   "execution_count": 1,
   "metadata": {},
   "outputs": [
    {
     "name": "stdout",
     "output_type": "stream",
     "text": [
      "Usedatetime:>>> import datetime\n",
      ">>> now = datetime.datetime.now()\n",
      ">>> now\n",
      "datetime.datetime(2009, 1, 6, 15, 8, 24, 78915)\n",
      ">>> print(now)\n",
      "2009-01-06 15:08:24.789150For just the clock time without the date:>>> now.time()\n",
      "datetime.time(15, 8, 24, 78915)\n",
      ">>> print(now.time())\n",
      "15:08:24.789150To save typing, you can import thedatetimeobject from thedatetimemodule:>>> from datetime import datetimeThen remove the prefixdatetime.from all of the above.\n"
     ]
    }
   ],
   "source": [
    "import requests\n",
    "from bs4 import BeautifulSoup\n",
    "# URL of the Stack Overflow question\n",
    "url = \"https://stackoverflow.com/questions/415511/how-do-i-get-the-current-time-in-python\"\n",
    "# Fetch the HTML content\n",
    "response = requests.get(url)\n",
    "soup = BeautifulSoup(response.text, \"html.parser\")\n",
    "# Find the first answer section\n",
    "first_answer = soup.find(\"div\", class_=\"answer\")\n",
    "# Extract the answer text\n",
    "if first_answer:\n",
    "    answer_body = first_answer.find(\"div\", class_=\"js-post-body\")\n",
    "    print(answer_body.get_text(strip=True))\n",
    "else:\n",
    "    print(\"Answer not found.\")"
   ]
  }
 ],
 "metadata": {
  "kernelspec": {
   "display_name": "Python 3",
   "language": "python",
   "name": "python3"
  },
  "language_info": {
   "codemirror_mode": {
    "name": "ipython",
    "version": 3
   },
   "file_extension": ".py",
   "mimetype": "text/x-python",
   "name": "python",
   "nbconvert_exporter": "python",
   "pygments_lexer": "ipython3",
   "version": "3.11.9"
  }
 },
 "nbformat": 4,
 "nbformat_minor": 2
}
